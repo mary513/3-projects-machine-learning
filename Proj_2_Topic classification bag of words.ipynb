{
 "cells": [
  {
   "cell_type": "code",
   "execution_count": 1,
   "metadata": {
    "collapsed": false
   },
   "outputs": [
    {
     "name": "stdout",
     "output_type": "stream",
     "text": [
      "finished3\n"
     ]
    }
   ],
   "source": [
    "# This tells matplotlib not to try opening a new window for each plot.\n",
    "%matplotlib inline\n",
    "\n",
    "# General libraries.\n",
    "import time\n",
    "import re\n",
    "import numpy as np\n",
    "import matplotlib.pyplot as plt\n",
    "\n",
    "# SK-learn libraries for learning.\n",
    "from sklearn.pipeline import Pipeline\n",
    "from sklearn.neighbors import KNeighborsClassifier\n",
    "from sklearn.linear_model import LogisticRegression\n",
    "from sklearn.naive_bayes import BernoulliNB\n",
    "from sklearn.naive_bayes import MultinomialNB\n",
    "from sklearn.grid_search import GridSearchCV\n",
    "\n",
    "# SK-learn libraries for evaluation.\n",
    "from sklearn.metrics import confusion_matrix\n",
    "from sklearn import metrics\n",
    "from sklearn.metrics import classification_report\n",
    "\n",
    "# SK-learn library for importing the newsgroup data.\n",
    "from sklearn.datasets import fetch_20newsgroups\n",
    "\n",
    "# SK-learn libraries for feature extraction from text.\n",
    "from sklearn.feature_extraction.text import *\n",
    "from tabulate import tabulate\n",
    "print 'finished3'"
   ]
  },
  {
   "cell_type": "code",
   "execution_count": 2,
   "metadata": {
    "collapsed": false
   },
   "outputs": [
    {
     "name": "stdout",
     "output_type": "stream",
     "text": [
      "training label shape: (2034L,)\n",
      "test label shape: (677L,)\n",
      "dev label shape: (676L,)\n",
      "labels names: ['alt.atheism', 'comp.graphics', 'sci.space', 'talk.religion.misc']\n"
     ]
    }
   ],
   "source": [
    "categories = ['alt.atheism', 'talk.religion.misc', 'comp.graphics', 'sci.space']\n",
    "newsgroups_train = fetch_20newsgroups(subset='train',\n",
    "                                      remove=('headers', 'footers', 'quotes'),\n",
    "                                      categories=categories)\n",
    "newsgroups_test = fetch_20newsgroups(subset='test',\n",
    "                                     remove=('headers', 'footers', 'quotes'),\n",
    "                                     categories=categories)\n",
    "\n",
    "num_test = len(newsgroups_test.target)\n",
    "test_data, test_labels = newsgroups_test.data[num_test/2:], newsgroups_test.target[num_test/2:]\n",
    "mini_test_data, mini_test_labels = newsgroups_test.data[:5], newsgroups_test.target[:5]\n",
    "\n",
    "dev_data, dev_labels = newsgroups_test.data[:num_test/2], newsgroups_test.target[:num_test/2]\n",
    "train_data, train_labels = newsgroups_train.data, newsgroups_train.target\n",
    "\n",
    "print 'training label shape:', train_labels.shape\n",
    "print 'test label shape:', test_labels.shape\n",
    "print 'dev label shape:', dev_labels.shape\n",
    "print 'labels names:', newsgroups_train.target_names"
   ]
  },
  {
   "cell_type": "code",
   "execution_count": 123,
   "metadata": {
    "collapsed": false
   },
   "outputs": [],
   "source": [
    "#1********************\n",
    "for i in range(0, 5): print \"LABEL IS:\",train_labels[i],\"\\nTEXT IS:\\n\", train_data[i]"
   ]
  },
  {
   "cell_type": "code",
   "execution_count": 124,
   "metadata": {
    "collapsed": false
   },
   "outputs": [
    {
     "name": "stdout",
     "output_type": "stream",
     "text": [
      "Vocabulary size is  26879\n",
      "Average number of non zero tokens across all data entries == 96.7059980334\n",
      "fraction of matrix/dictionary that is non-zero is very small ==  0.00359782722696\n",
      "first word is:  00\n",
      "last word is:  zyxel\n",
      "(2034, 4)\n",
      "Average number of non zero tokens across my dictionary == 0.268436578171\n",
      "Fraction of my matrix/dictionary that is non-zero == 24.1764995084\n"
     ]
    }
   ],
   "source": [
    "#2A)*********************\n",
    "clf = CountVectorizer()\n",
    "x = clf.fit_transform(train_data)\n",
    "print \"Vocabulary size is \", x.shape[1]\n",
    "CVmean = np.mean(x.getnnz(axis=1))\n",
    "print \"Average number of non zero tokens across all data entries ==\", CVmean\n",
    "print \"fraction of matrix/dictionary that is non-zero is very small == \", CVmean/x.shape[1]\n",
    "words = clf.get_feature_names()\n",
    "\n",
    "#2B)*********************\n",
    "print 'first word is: ', words[0]\n",
    "print 'last word is: ', words[x.shape[1]-1]\n",
    "\n",
    "#2C)*********************\n",
    "mywords = [\"atheism\", \"religion\", \"graphics\", \"space\"]\n",
    "myClf = CountVectorizer()\n",
    "mytrans = myClf.fit_transform(mywords)\n",
    "mine = myClf.transform(train_data)\n",
    "print mine.shape\n",
    "myMean = np.mean(mine.getnnz(axis=1))\n",
    "print \"Average number of non zero tokens across my dictionary ==\", myMean\n",
    "print \"Fraction of my matrix/dictionary that is non-zero ==\", CVmean/mine.shape[1]\n",
    "\n",
    "#code to cross check the mean**************\n",
    "# eachrow=[]\n",
    "# for i in range(0, 2034):\n",
    "#     #print x[i].shape\n",
    "#     eachrow.append(x[i].getnnz())\n",
    "#     #print x[i].getnnz()\n",
    "# print \"mean is equal to: \", np.mean(eachrow)"
   ]
  },
  {
   "cell_type": "code",
   "execution_count": 125,
   "metadata": {
    "collapsed": false
   },
   "outputs": [
    {
     "name": "stdout",
     "output_type": "stream",
     "text": [
      "\n",
      "NGram Range = 1:\n",
      "vocabulary size is  26879\n",
      "\n",
      "NGram Range = 2:\n",
      "vocabulary size is  221770\n",
      "\n",
      "NGram Range = 3:\n",
      "vocabulary size is  537462\n"
     ]
    }
   ],
   "source": [
    "#2D)***********************\n",
    "# Ngrams, even at 2, significantly increase the vocabulary\n",
    "print \"\\nNGram Range = 1:\"\n",
    "clf = CountVectorizer(ngram_range=(1, 1))\n",
    "x = clf.fit_transform(train_data)\n",
    "print 'vocabulary size is ', x.shape[1]\n",
    "\n",
    "print \"\\nNGram Range = 2:\"\n",
    "clf = CountVectorizer(ngram_range=(1, 2))\n",
    "x = clf.fit_transform(train_data)\n",
    "print 'vocabulary size is ', x.shape[1]\n",
    "\n",
    "print \"\\nNGram Range = 3:\"\n",
    "clf = CountVectorizer(ngram_range=(1, 3))\n",
    "x = clf.fit_transform(train_data)\n",
    "print 'vocabulary size is ', x.shape[1]"
   ]
  },
  {
   "cell_type": "code",
   "execution_count": 126,
   "metadata": {
    "collapsed": false
   },
   "outputs": [
    {
     "name": "stdout",
     "output_type": "stream",
     "text": [
      "\n",
      "Char_WB = 1,2:\n",
      "vocabulary size is  3167\n",
      "\n",
      "Char_WB = 2,2:\n",
      "vocabulary size is  3090\n",
      "\n",
      "Char_WB = 3,3:\n",
      "vocabulary size is  25864\n",
      "\n",
      "Char_WB = 4,4:\n",
      "vocabulary size is  75940\n",
      "\n",
      "Char_WB = 5,5:\n",
      "vocabulary size is  118537\n"
     ]
    }
   ],
   "source": [
    "#2D)***********************\n",
    "# the char_wb analyzer, which creates ngrams from only within word boundaries \n",
    "# makes a small vocab for smaller ngrams (less perumatations that occur repeatedly \n",
    "# in english languae) and larger for larger ngrams (more permutations)\n",
    "print \"\\nChar_WB = 1,2:\"\n",
    "clf = CountVectorizer(analyzer='char_wb', ngram_range=(1, 2))\n",
    "x = clf.fit_transform(train_data)\n",
    "print 'vocabulary size is ', x.shape[1]\n",
    "\n",
    "print \"\\nChar_WB = 2,2:\"\n",
    "clf = CountVectorizer(analyzer='char_wb', ngram_range=(2, 2))\n",
    "x = clf.fit_transform(train_data)\n",
    "print 'vocabulary size is ', x.shape[1]\n",
    "\n",
    "print \"\\nChar_WB = 3,3:\"\n",
    "clf = CountVectorizer(analyzer='char_wb', ngram_range=(3, 3))\n",
    "x = clf.fit_transform(train_data)\n",
    "print 'vocabulary size is ', x.shape[1]\n",
    "\n",
    "print \"\\nChar_WB = 4,4:\"\n",
    "clf = CountVectorizer(analyzer='char_wb', ngram_range=(4, 4))\n",
    "x = clf.fit_transform(train_data)\n",
    "print 'vocabulary size is ', x.shape[1]\n",
    "\n",
    "print \"\\nChar_WB = 5,5:\"\n",
    "clf = CountVectorizer(analyzer='char_wb', ngram_range=(5, 5))\n",
    "x = clf.fit_transform(train_data)\n",
    "print 'vocabulary size is ', x.shape[1]"
   ]
  },
  {
   "cell_type": "code",
   "execution_count": 231,
   "metadata": {
    "collapsed": false
   },
   "outputs": [
    {
     "name": "stdout",
     "output_type": "stream",
     "text": [
      "After pruning words not in at least 10 docs, train data has this many words:  3064\n"
     ]
    }
   ],
   "source": [
    "#2E)**Prune words that are not in at least 10 docs  ******************************\n",
    "clf = CountVectorizer(min_df=10)\n",
    "x = clf.fit_transform(train_data)\n",
    "print \"After pruning words not in at least 10 docs, train data has this many words: \", x.shape[1]"
   ]
  },
  {
   "cell_type": "code",
   "execution_count": 229,
   "metadata": {
    "collapsed": false
   },
   "outputs": [
    {
     "name": "stdout",
     "output_type": "stream",
     "text": [
      "train data has this many words:  26879\n",
      "dev data has this many words:  16246\n",
      "train has this many more words:  10633\n"
     ]
    }
   ],
   "source": [
    "#2F)****Difference in vocab sizes, train vs. dev data ***************************\n",
    "clf = CountVectorizer()\n",
    "x = clf.fit_transform(train_data)\n",
    "print \"train data has this many words: \", x.shape[1]\n",
    "clf = CountVectorizer()\n",
    "y = clf.fit_transform(dev_data)\n",
    "print \"dev data has this many words: \", y.shape[1]\n",
    "print \"train has this many more words: \", x.shape[1]-y.shape[1]"
   ]
  },
  {
   "cell_type": "code",
   "execution_count": 129,
   "metadata": {
    "collapsed": false
   },
   "outputs": [
    {
     "data": {
      "image/png": "[encoded data removed]",
      "text/plain": [
       "<matplotlib.figure.Figure at 0x1aeee7b8>"
      ]
     },
     "metadata": {},
     "output_type": "display_data"
    },
    {
     "name": "stdout",
     "output_type": "stream",
     "text": [
      "max score= 0.478882866053 when k=  112\n"
     ]
    }
   ],
   "source": [
    "#3) KNN ********************************\n",
    "# KNN doesn't work well because most texts share most of the same words, and only \n",
    "# a few words differentiate one topic from another\n",
    "# This is similar to the confusion in the MNIST data where numbers 4, 9 and 2, 8\n",
    "# were confused ==> they don't have enough distinct features to clearly differentiate\n",
    "clf = CountVectorizer()\n",
    "x = clf.fit_transform(train_data)\n",
    "xdev = clf.transform(dev_data)\n",
    "scores =[]\n",
    "k = []\n",
    "maxscore =0\n",
    "for i in range(1, 200):\n",
    "    k.append(i)\n",
    "    clfKNN = KNeighborsClassifier(n_neighbors=i)\n",
    "    clfKNN.fit(x, train_labels)\n",
    "    preds = clfKNN.predict(xdev)\n",
    "    score = metrics.f1_score(dev_labels, preds, average='weighted')\n",
    "    #print score\n",
    "    scores.append(score)\n",
    "    if score > maxscore: \n",
    "        maxscore = score\n",
    "        index=i    \n",
    "plt.plot(k, scores)\n",
    "plt.show()\n",
    "print 'max score=', maxscore, 'when k= ', index"
   ]
  },
  {
   "cell_type": "code",
   "execution_count": 140,
   "metadata": {
    "collapsed": false
   },
   "outputs": [
    {
     "name": "stdout",
     "output_type": "stream",
     "text": [
      "mean: 0.30629, std: 0.00552, params: {'alpha': 0.0}\n",
      "mean: 0.82547, std: 0.00573, params: {'alpha': 0.0001}\n",
      "mean: 0.82596, std: 0.00400, params: {'alpha': 0.001}\n",
      "mean: 0.82842, std: 0.00651, params: {'alpha': 0.01}\n",
      "mean: 0.82203, std: 0.01419, params: {'alpha': 0.1}\n",
      "mean: 0.80875, std: 0.01414, params: {'alpha': 0.5}\n",
      "mean: 0.79597, std: 0.01909, params: {'alpha': 1.0}\n",
      "mean: 0.77384, std: 0.01863, params: {'alpha': 2.0}\n",
      "mean: 0.68437, std: 0.02005, params: {'alpha': 10.0}\n"
     ]
    },
    {
     "name": "stderr",
     "output_type": "stream",
     "text": [
      "C:\\Users\\IBM_ADMIN\\Anaconda2\\lib\\site-packages\\sklearn\\naive_bayes.py:664: RuntimeWarning: divide by zero encountered in log\n",
      "  self.feature_log_prob_ = (np.log(smoothed_fc)\n"
     ]
    }
   ],
   "source": [
    "# 3) MulitnomialNB: grid search for best alpha*************\n",
    "clf = CountVectorizer()\n",
    "x = clf.fit_transform(train_data)\n",
    "xdev = clf.transform(dev_data)\n",
    "scores =[]\n",
    "k = []\n",
    "parameters = {'alpha': [0.000, 0.0001, 0.001, 0.01, 0.1, 0.5, 1.0, 2.0, 10.0]}\n",
    "clf = GridSearchCV(MultinomialNB(), parameters)\n",
    "clf.fit(x, train_labels)\n",
    "for i in range(0, len(clf.grid_scores_)):\n",
    "    print clf.grid_scores_[i]"
   ]
  },
  {
   "cell_type": "code",
   "execution_count": 141,
   "metadata": {
    "collapsed": false,
    "scrolled": true
   },
   "outputs": [
    {
     "name": "stdout",
     "output_type": "stream",
     "text": [
      "logistic regr score:  0.699704142012\n",
      "mean: 0.73402, std: 0.00750, params: {'C': 0.01}\n",
      "mean: 0.76647, std: 0.00299, params: {'C': 0.1}\n",
      "mean: 0.77139, std: 0.00337, params: {'C': 0.5}\n",
      "mean: 0.76303, std: 0.00306, params: {'C': 1.0}\n",
      "mean: 0.76254, std: 0.00448, params: {'C': 2.0}\n",
      "mean: 0.75320, std: 0.00062, params: {'C': 10.0}\n",
      "mean: 0.74975, std: 0.00438, params: {'C': 100.0}\n"
     ]
    }
   ],
   "source": [
    "#3) Logistic regression, find optimal value of C\n",
    "# Use grid search\n",
    "# Logistic regression does not work as well as NB because of different objectives \n",
    "# NB assigns each feature distinct probability correlated with frequency\n",
    "# whereas LogRegr attempts to minimize errors by generating estimate\n",
    "# weights across all features. This minimizes the impact of words that are \n",
    "# distinct/relevant to a specific class of news topic\n",
    "clf = CountVectorizer()\n",
    "x = clf.fit_transform(train_data)\n",
    "xdev = clf.transform(dev_data)\n",
    "regr = LogisticRegression()\n",
    "regr.fit(x, train_labels)\n",
    "print 'logistic regr score: ', regr.score(xdev, dev_labels)\n",
    "\n",
    "parameters = {'C': [0.01, 0.1, 0.5, 1.0, 2.0, 10.0, 100.0]}\n",
    "clf = GridSearchCV(LogisticRegression(), parameters)\n",
    "clf.fit(x, train_labels)\n",
    "for i in range(0, len(clf.grid_scores_)):\n",
    "    print clf.grid_scores_[i]"
   ]
  },
  {
   "cell_type": "code",
   "execution_count": 139,
   "metadata": {
    "collapsed": false
   },
   "outputs": [
    {
     "name": "stdout",
     "output_type": "stream",
     "text": [
      "logistic regr score:  0.699704142012\n",
      "\n",
      "for C value ==  0.01 the 4 coef squared are:\n",
      "0.0112213844262\n",
      "0.195811353216\n",
      "0.341946678825\n",
      "0.0168496947597\n",
      "for C value ==  0.1 the 4 coef squared are:\n",
      "5.65807705863\n",
      "12.6594418991\n",
      "10.2887959959\n",
      "4.46947852096\n",
      "for C value ==  0.5 the 4 coef squared are:\n",
      "62.2325192372\n",
      "63.0207267625\n",
      "55.9891650214\n",
      "53.2229374477\n",
      "for C value ==  1.0 the 4 coef squared are:\n",
      "173.935308315\n",
      "114.673169697\n",
      "123.464703362\n",
      "132.155194122\n",
      "for C value ==  2.0 the 4 coef squared are:\n",
      "385.444488356\n",
      "207.153538146\n",
      "321.515410377\n",
      "313.927054611\n",
      "for C value ==  10.0 the 4 coef squared are:\n",
      "1047.17465506\n",
      "735.038792014\n",
      "889.653095507\n",
      "971.995446525\n",
      "for C value ==  100.0 the 4 coef squared are:\n",
      "3424.66902027\n",
      "3222.07987749\n",
      "3638.80550815\n",
      "3180.67780003\n"
     ]
    }
   ],
   "source": [
    "#3C  Logistic Regression compare C value to coef_ squared *********\n",
    "clf = CountVectorizer()\n",
    "x = clf.fit_transform(train_data)\n",
    "xdev = clf.transform(dev_data)\n",
    "regr = LogisticRegression()\n",
    "regr.fit(x, train_labels)\n",
    "print 'logistic regr score: ', regr.score(xdev, dev_labels)\n",
    "print \n",
    "\n",
    "# Obviously sum of squares increases with C.\n",
    "# But for the optimal C value (based on the grid search above, C= ~0.5)\n",
    "# the sum of the coefficients squared at that value of C, is closest to the average \n",
    "# number of non-zero tokens for the entire corpus\n",
    "\n",
    "clf = CountVectorizer()\n",
    "x = clf.fit_transform(train_data)\n",
    "xdev = clf.transform(dev_data)        \n",
    "Cvalues=[0.01, 0.1, 0.5, 1.0, 2.0, 10.0, 100.0]\n",
    "scores = []\n",
    "for i in range(0, len(Cvalues)):    \n",
    "    regr = LogisticRegression(penalty='l1', tol = 0.01, C=Cvalues[i])\n",
    "    regr.fit(x, train_labels)\n",
    "    allcoef = map(lambda x: np.sum(np.square(regr.coef_[x])),[0,1,2,3])\n",
    "    scores.append(allcoef)\n",
    "\n",
    "for i in range(0, len(Cvalues)):  \n",
    "    print 'for C value == ', Cvalues[i], 'the 4 coef squared are:' \n",
    "    for j in range(0,4):\n",
    "        print scores[i][j]"
   ]
  },
  {
   "cell_type": "code",
   "execution_count": 15,
   "metadata": {
    "collapsed": false,
    "scrolled": true
   },
   "outputs": [
    {
     "name": "stdout",
     "output_type": "stream",
     "text": [
      "top words for  alt.atheism :\n",
      "atheism\n",
      "religion\n",
      "bobby\n",
      "atheists\n",
      "deletion\n",
      "top words for  comp.graphics :\n",
      "computer\n",
      "3d\n",
      "file\n",
      "image\n",
      "graphics\n",
      "top words for  sci.space :\n",
      "spacecraft\n",
      "launch\n",
      "nasa\n",
      "orbit\n",
      "space\n",
      "top words for  talk.religion.misc :\n",
      "order\n",
      "fbi\n",
      "blood\n",
      "christian\n",
      "christians\n",
      "feature       alt.atheism    comp.graphics    sci.space    talk.religion.misc\n",
      "----------  -------------  ---------------  -----------  --------------------\n",
      "atheism              0.94            -0.41        -0.45                 -0.43\n",
      "religion             0.95            -0.62        -0.79                 -0.06\n",
      "bobby                0.99            -0.22        -0.34                 -0.46\n",
      "atheists             1.03            -0.1         -0.32                 -0.84\n",
      "deletion             1.12            -0.4         -0.42                 -0.4\n",
      "computer             0.14             0.98        -0.68                 -0.49\n",
      "3d                  -0.36             1.12        -0.7                  -0.38\n",
      "file                -0.33             1.27        -0.81                 -0.63\n",
      "image               -0.58             1.35        -0.83                 -0.47\n",
      "graphics            -0.76             1.94        -1.34                 -0.76\n",
      "spacecraft          -0.36            -0.39         0.92                 -0.38\n",
      "launch              -0.47            -0.47         0.94                 -0.33\n",
      "nasa                -0.57            -0.48         1.01                 -0.47\n",
      "orbit               -0.41            -0.67         1.23                 -0.63\n",
      "space               -1.26            -1.32         2.16                 -1.17\n",
      "order               -0.79            -0.08        -0.15                  0.9\n",
      "fbi                 -0.31            -0.27        -0.45                  0.91\n",
      "blood               -0.53            -0.11        -0.32                  1.05\n",
      "christian           -0.61            -0.42        -0.27                  1.12\n",
      "christians          -0.74            -0.41        -0.53                  1.15\n"
     ]
    }
   ],
   "source": [
    "#4 Top Words*******************************\n",
    "clf = CountVectorizer()\n",
    "x = clf.fit_transform(train_data)\n",
    "regr = LogisticRegression()\n",
    "regr.fit(x, train_labels)\n",
    "\n",
    "myFeat = clf.get_feature_names()\n",
    "h =[]\n",
    "for i in range(0,4): h.append(newsgroups_train.target_names[i])\n",
    "eachsubject = []\n",
    "topwords =[]\n",
    "for i in range(0, 4):\n",
    "    eachsubject.append(sorted(range(len(regr.coef_[i])), key=lambda j:regr.coef_[i][j])[-5:])\n",
    "    print 'top words for ', h[i], ':'\n",
    "    for k in range (0, 5):\n",
    "        print myFeat[eachsubject[i][k]]\n",
    "    #topwords.append(np.argpartition(regr.coef_[i], -5)[-5:]) also works\n",
    "    topwords.append(sorted(range(len(regr.coef_[i])), key=lambda j:regr.coef_[i][j])[-5:])\n",
    "\n",
    "matrixList=[]\n",
    "eachrow=[]\n",
    "for i in range(0, 4):\n",
    "    for j in range(0, 5):\n",
    "        eachrow.append(myFeat[topwords[i][j]])\n",
    "        for k in range(0, 4):\n",
    "            eachrow.append(round(regr.coef_[k][topwords[i][j]], 2))            \n",
    "matrixList.append(eachrow)\n",
    "myheader = ['feature', h[0],h[1],h[2],h[3]]\n",
    "a=np.array(matrixList).reshape(20,5)\n",
    "print tabulate(a, headers=myheader, tablefmt=\"simple\")\n"
   ]
  },
  {
   "cell_type": "code",
   "execution_count": 16,
   "metadata": {
    "collapsed": false,
    "scrolled": true
   },
   "outputs": [
    {
     "name": "stdout",
     "output_type": "stream",
     "text": [
      "top words for  alt.atheism :\n",
      "you are\n",
      "look up\n",
      "cheers kent\n",
      "was just\n",
      "claim that\n",
      "top words for  comp.graphics :\n",
      "out there\n",
      "is there\n",
      "in advance\n",
      "comp graphics\n",
      "looking for\n",
      "top words for  sci.space :\n",
      "sherzer methodology\n",
      "and such\n",
      "sci space\n",
      "the moon\n",
      "the space\n",
      "top words for  talk.religion.misc :\n",
      "is strength\n",
      "the fbi\n",
      "compuserve com\n",
      "such lunacy\n",
      "ignorance is\n",
      "feature                alt.atheism    comp.graphics    sci.space    talk.religion.misc\n",
      "-------------------  -------------  ---------------  -----------  --------------------\n",
      "you are                       0.57            -0.32        -0.58                  0\n",
      "look up                       0.63            -0.24        -0.2                  -0.17\n",
      "cheers kent                   0.65            -0.88        -0.82                  0.6\n",
      "was just                      0.68            -0.19        -0.2                  -0.3\n",
      "claim that                    0.77            -0.26        -0.35                 -0.2\n",
      "out there                    -0.32             0.9         -0.58                 -0.33\n",
      "is there                     -0.43             0.91        -0.57                 -0.34\n",
      "in advance                   -0.54             0.97        -0.53                 -0.51\n",
      "comp graphics                -0.38             1.04        -0.47                 -0.4\n",
      "looking for                  -0.76             1.32        -0.61                 -0.7\n",
      "sherzer methodology          -0.16            -0.23         0.68                 -0.16\n",
      "and such                     -0.24            -0.4          0.69                 -0.26\n",
      "sci space                    -0.32            -0.39         0.74                 -0.27\n",
      "the moon                     -0.4             -0.58         0.95                 -0.24\n",
      "the space                    -0.31            -0.65         1.03                 -0.32\n",
      "is strength                  -0.18            -0.22        -0.2                   0.65\n",
      "the fbi                      -0.17            -0.26        -0.36                  0.65\n",
      "compuserve com               -0.13            -0.21        -0.2                   0.7\n",
      "such lunacy                  -0.15            -0.22        -0.19                  0.71\n",
      "ignorance is                 -0.23            -0.25        -0.21                  0.75\n"
     ]
    }
   ],
   "source": [
    "#4 Top Words Bigrams\n",
    "# The bigrams are surprising because they don't involve the most common/top words at all\n",
    "# which we might intuitively expect\n",
    "# Most of the top bi-grams are everyday phrases..'you are', 'was just', \n",
    "# 'out there', 'is there', 'and such', etc\n",
    "clf = CountVectorizer(ngram_range=(2, 2))\n",
    "x = clf.fit_transform(train_data)\n",
    "regr = LogisticRegression()\n",
    "regr.fit(x, train_labels)\n",
    "\n",
    "myFeat = clf.get_feature_names()\n",
    "h =[]\n",
    "for i in range(0,4): h.append(newsgroups_train.target_names[i])\n",
    "eachsubject = []\n",
    "topwords =[]\n",
    "for i in range(0, 4):\n",
    "    eachsubject.append(sorted(range(len(regr.coef_[i])), key=lambda j:regr.coef_[i][j])[-5:])\n",
    "    print 'top words for ', h[i], ':'\n",
    "    for j in range (0, 5):\n",
    "        print myFeat[eachsubject[i][j]]\n",
    "    #topwords.append(np.argpartition(regr.coef_[i], -5)[-5:])\n",
    "    topwords.append(sorted(range(len(regr.coef_[i])), key=lambda j:regr.coef_[i][j])[-5:])\n",
    "\n",
    "\n",
    "matrixList=[]\n",
    "eachrow=[]\n",
    "for i in range(0, 4):\n",
    "    for j in range(0, 5):\n",
    "        eachrow.append(myFeat[topwords[i][j]])\n",
    "        for k in range(0, 4):\n",
    "            eachrow.append(round(regr.coef_[k][topwords[i][j]], 2))            \n",
    "matrixList.append(eachrow)\n",
    "myheader = ['feature', h[0],h[1],h[2],h[3]]\n",
    "a=np.array(matrixList).reshape(20,5)\n",
    "print tabulate(a, headers=myheader, tablefmt=\"simple\")\n"
   ]
  },
  {
   "cell_type": "code",
   "execution_count": 119,
   "metadata": {
    "collapsed": false
   },
   "outputs": [],
   "source": [
    "def emptyprocessor(s):\n",
    "    return s\n",
    "\n",
    "def mypreproc(s):\n",
    "    s = s.lower()\n",
    "    s = re.sub('\\b\\w{7,50}\\b', ' i ', s)\n",
    "    s = re.sub('[\\w\\.-]+@[\\w\\.-]+', ' i ',s)\n",
    "    s= re.sub('\\_\\w+', ' i ', s)\n",
    "    s= re.sub('\\w+\\_', ' i ', s)\n",
    "    s = re.sub('[\\w+]+\\_+[\\w+]+', ' i ', s)\n",
    "    s = re.sub('[\\_+]+\\w+[\\_+]+', ' i ', s)    \n",
    "    s = re.sub('[\\w-]+\\d+[\\w-]+', ' i ', s)    \n",
    "    s = re.sub('[\\d-]+\\w+[\\d-]+', ' i ', s)    \n",
    "    s = re.sub('[\\d]+\\w+', ' i ', s)  \n",
    "    s = re.sub('[\\w+]+_+[\\w+]+', ' i ', s)  \n",
    "    s = re.sub('[\\_+]+\\w+[\\_+]+', ' i ', s) \n",
    "    s = re.sub('[_+]+\\w+[_+]+', ' i ', s) \n",
    "    s = re.sub('\\d+', ' i ', s)\n",
    "    s = re.sub('[.]+\\w+', ' i ', s)       \n",
    "    return s\n",
    "\n",
    "def mypreproc2(s):\n",
    "    s = s.lower()\n",
    "#   s = re.sub('\\b\\w{7,50}\\b', ' i ', s) Do not remove words larger than 7\n",
    "    s = re.sub('[\\w\\.-]+@[\\w\\.-]+', ' i ',s)\n",
    "    s= re.sub('\\_\\w+', ' i ', s)\n",
    "    s= re.sub('\\w+\\_', ' i ', s)\n",
    "    s = re.sub('[\\w+]+\\_+[\\w+]+', ' i ', s)\n",
    "    s = re.sub('[\\_+]+\\w+[\\_+]+', ' i ', s)    \n",
    "    s = re.sub('[\\w-]+\\d+[\\w-]+', ' i ', s)    \n",
    "    s = re.sub('[\\d-]+\\w+[\\d-]+', ' i ', s)    \n",
    "    s = re.sub('[\\d]+\\w+', ' i ', s)  \n",
    "    s = re.sub('[\\w+]+_+[\\w+]+', ' i ', s)  \n",
    "    s = re.sub('[\\_+]+\\w+[\\_+]+', ' i ', s) \n",
    "    s = re.sub('[_+]+\\w+[_+]+', ' i ', s) \n",
    "    s = re.sub('\\d+', ' i ', s)\n",
    "    s = re.sub('[.]+\\w+', ' i ', s)       \n",
    "    return s"
   ]
  },
  {
   "cell_type": "code",
   "execution_count": 121,
   "metadata": {
    "collapsed": false
   },
   "outputs": [
    {
     "name": "stdout",
     "output_type": "stream",
     "text": [
      "default :\n",
      "vocabulary size = 26879\n",
      "avg f1 score: 0.694417287185\n",
      "avg score: 0.699704142012\n",
      "\n",
      "empty :\n",
      "vocabulary size = 33291\n",
      "avg f1 score: 0.69837564797\n",
      "avg score: 0.703402366864\n",
      "\n",
      "preprocessor #1 :\n",
      "vocabulary size = 22706\n",
      "avg f1 score: 0.703642237957\n",
      "avg score: 0.709072978304\n",
      "\n",
      "preprocessor #2 :\n",
      "vocabulary size = 22706\n",
      "avg f1 score: 0.706275532951\n",
      "avg score: 0.711908284024\n",
      "\n"
     ]
    }
   ],
   "source": [
    "#5) Preprocessor  ************************** \n",
    "# Empty preprocessor makes the vocabulary larger (without significantly impacting scores)\n",
    "# because it overrides default string processing stage, which has built-in features for punctuation \n",
    "# other spurious characters\n",
    "# Preprocessor removes:\n",
    "#  Numbers, numbers tied to strings, and vice versa\n",
    "#  Underscore and undercores tied to strings and vice versa\n",
    "#  email addresses\n",
    "# Could only improve the score 1 basis point even when removing words over 7 chars\n",
    "\n",
    "avg_f1score = []\n",
    "avg_score = []\n",
    "names = ['default', 'empty', 'preprocessor #1', 'preprocessor #2']\n",
    "vectorizers =[]\n",
    "vectorizers.append(CountVectorizer())\n",
    "vectorizers.append(CountVectorizer(preprocessor=emptyprocessor))\n",
    "vectorizers.append(CountVectorizer(preprocessor=mypreproc, stop_words='english')) \n",
    "vectorizers.append(CountVectorizer(preprocessor=mypreproc2, stop_words='english'))\n",
    "\n",
    "for i in range(0, 4):\n",
    "    for j in range(0, 10):            \n",
    "        clf = vectorizers[i]\n",
    "        x = clf.fit_transform(train_data)\n",
    "        xdev = clf.transform(dev_data)\n",
    "        regr = LogisticRegression()\n",
    "        regr.fit(x, train_labels)\n",
    "        preds = regr.predict(xdev)\n",
    "        avg_f1score.append(metrics.f1_score(dev_labels, preds, average='weighted'))\n",
    "        avg_score.append(regr.score(xdev, dev_labels))\n",
    "    print names[i], ':'\n",
    "    print 'vocabulary size =', x.shape[1]\n",
    "    print 'avg f1 score:', sum(avg_f1score)/len(avg_f1score)\n",
    "    print 'avg score:',sum(avg_score)/len(avg_score)\n",
    "    print\n",
    "\n"
   ]
  },
  {
   "cell_type": "code",
   "execution_count": 13,
   "metadata": {
    "collapsed": false
   },
   "outputs": [
    {
     "name": "stdout",
     "output_type": "stream",
     "text": [
      "logistic regr score l1:  0.686390532544\n",
      "for class alt.atheism non zero weights = 436\n",
      "for class comp.graphics non zero weights = 461\n",
      "for class sci.space non zero weights = 391\n",
      "for class talk.religion.misc non zero weights = 376\n",
      "\n",
      "\n",
      "logistic regr score l2: 0.699704142012\n",
      "for class alt.atheism non zero weights = 26879\n",
      "for class comp.graphics non zero weights = 26879\n",
      "for class sci.space non zero weights = 26879\n",
      "for class talk.religion.misc non zero weights = 26879\n"
     ]
    }
   ],
   "source": [
    "#6) *****************Logistic regression with L1************ \n",
    "# ***************** vs L2 ************ \n",
    "# Number of non-zero values for l1 regularization is much smaller than the \n",
    "# non zero number for l2,\n",
    "# because in l2 regularization all values are non-zero (but relatively small)\n",
    "clf = CountVectorizer()\n",
    "x = clf.fit_transform(train_data)\n",
    "xdev = clf.transform(dev_data)\n",
    "regr = LogisticRegression(penalty='l1')\n",
    "regr.fit(x, train_labels)\n",
    "print 'logistic regr score l1: ', regr.score(xdev, dev_labels)\n",
    "for i in range(0, 4):\n",
    "    print 'for class', newsgroups_train.target_names[i],'non zero weights =', np.count_nonzero(regr.coef_[i])    \n",
    "print\n",
    "print\n",
    "clf = CountVectorizer()\n",
    "x = clf.fit_transform(train_data)\n",
    "xdev = clf.transform(dev_data)\n",
    "regr = LogisticRegression(penalty='l2')\n",
    "regr.fit(x, train_labels)\n",
    "print 'logistic regr score l2:', regr.score(xdev, dev_labels)\n",
    "for i in range(0, 4):\n",
    "    print 'for class', newsgroups_train.target_names[i],'non zero weights =', np.count_nonzero(regr.coef_[i])    "
   ]
  },
  {
   "cell_type": "code",
   "execution_count": 12,
   "metadata": {
    "collapsed": false,
    "scrolled": true
   },
   "outputs": [
    {
     "name": "stdout",
     "output_type": "stream",
     "text": [
      "c-value is:  0.01\n",
      "new vocab size is:  20\n",
      "Retrained l2 logistic regr score is:  0.488165680473\n",
      "c-value is:  0.1\n",
      "new vocab size is:  215\n",
      "Retrained l2 logistic regr score is:  0.693786982249\n",
      "c-value is:  0.25\n",
      "new vocab size is:  441\n",
      "Retrained l2 logistic regr score is:  0.681952662722\n",
      "c-value is:  0.5\n",
      "new vocab size is:  729\n",
      "Retrained l2 logistic regr score is:  0.677514792899\n",
      "c-value is:  0.75\n",
      "new vocab size is:  945\n",
      "Retrained l2 logistic regr score is:  0.671597633136\n",
      "c-value is:  10\n",
      "new vocab size is:  2446\n",
      "Retrained l2 logistic regr score is:  0.704142011834\n",
      "c-value is:  25\n",
      "new vocab size is:  4603\n",
      "Retrained l2 logistic regr score is:  0.695266272189\n",
      "c-value is:  50\n",
      "new vocab size is:  5878\n",
      "Retrained l2 logistic regr score is:  0.69674556213\n",
      "c-value is:  75\n",
      "new vocab size is:  6942\n",
      "Retrained l2 logistic regr score is:  0.701183431953\n",
      "c-value is:  100\n",
      "new vocab size is:  7741\n",
      "Retrained l2 logistic regr score is:  0.699704142012\n",
      "c-value is:  250\n",
      "new vocab size is:  13564\n",
      "Retrained l2 logistic regr score is:  0.701183431953\n",
      "c-value is:  500\n",
      "new vocab size is:  19169\n",
      "Retrained l2 logistic regr score is:  0.701183431953\n",
      "c-value is:  750\n",
      "new vocab size is:  21715\n",
      "Retrained l2 logistic regr score is:  0.699704142012\n",
      "c-value is:  1000\n",
      "new vocab size is:  23623\n",
      "Retrained l2 logistic regr score is:  0.701183431953\n"
     ]
    },
    {
     "data": {
      "image/png": "[encoded data removed]",
      "text/plain": [
       "<matplotlib.figure.Figure at 0x1f5b1748>"
      ]
     },
     "metadata": {},
     "output_type": "display_data"
    },
    {
     "name": "stdout",
     "output_type": "stream",
     "text": [
      "finished\n"
     ]
    }
   ],
   "source": [
    "#6) *******Prune L1 Logit with different values of C, create a new dictionary\n",
    "# Use new dictionary to score Logit using L2\n",
    "# After running the code below about 5 times, C = ~10 yields the max score \n",
    "# for most efficient(minimum)vocabulary, about 2500 words\n",
    "np.random.seed(0)    \n",
    "listofscores =[]\n",
    "vocabsizes =[]\n",
    "cvalues = [0.01,0.1,0.25,0.5,0.75,10,25,50,75,100,250,500,750,1000]\n",
    "mydict = {}\n",
    "clf = CountVectorizer()\n",
    "x = clf.fit_transform(train_data)\n",
    "vocab = clf.vocabulary_\n",
    "words=clf.get_feature_names()\n",
    "for i in range(0, len(cvalues)):\n",
    "    regr = LogisticRegression(penalty='l1', tol=0.01, C=cvalues[i])\n",
    "    regr.fit(x, train_labels) \n",
    "    uniquenp = np.unique(np.nonzero(map(lambda x: (regr.coef_[x]),[0,1,2,3])))\n",
    "    print 'c-value is: ', cvalues[i]\n",
    "    print 'new vocab size is: ', uniquenp.shape[0]\n",
    "    vocabsizes.append(uniquenp.shape[0])\n",
    "    mydict = {}\n",
    "    for j in range(0, uniquenp.shape[0]): \n",
    "        mydict.update({words[uniquenp[j]]:j})     \n",
    "    clf2 = CountVectorizer(vocabulary=mydict)\n",
    "    x2 = clf2.fit_transform(train_data)\n",
    "    xdev = clf2.transform(dev_data)\n",
    "    regr2 = LogisticRegression(penalty='l2')#default is l2\n",
    "    regr2.fit(x2, train_labels)\n",
    "    score = regr2.score(xdev, dev_labels)\n",
    "    listofscores.append(score)\n",
    "    print 'Retrained l2 logistic regr score is: ', score\n",
    "\n",
    "plt.scatter(vocabsizes, listofscores)\n",
    "plt.show()            \n",
    "print 'finished'"
   ]
  },
  {
   "cell_type": "code",
   "execution_count": 8,
   "metadata": {
    "collapsed": false,
    "scrolled": true
   },
   "outputs": [
    {
     "name": "stdout",
     "output_type": "stream",
     "text": [
      "max prob is: 0.999978715534\n",
      "0.999978715534\n",
      "the counter 0\n",
      "\n",
      "\n",
      "Predicted label: comp.graphics\n",
      "\n",
      "\n",
      "Correct label: talk.religion.misc\n",
      "\n",
      "\n",
      "Index: 215\n",
      "\n",
      "Magnitude of folly 929.344142051\n",
      "I am pleased to announce that a *revised version* of _The Easy-to-Read Book\n",
      "of Mormon_ (former title: _Mormon's Book_) by Lynn Matthews Anderson is now\n",
      "available through anonymous ftp (see information below). In addition to the\n",
      "change in title, the revised ETR BOM has been shortened by several pages\n",
      "(eliminating many extraneous \"that's\" and \"of's\"), and many (minor) errors\n",
      "have been corrected. This release includes a simplified Joseph Smith Story,\n",
      "testimonies of the three and eight witnesses, and a \"Words-to-Know\"\n",
      "glossary.\n",
      "\n",
      "As with the previous announcement, readers are reminded that this is a\n",
      "not-for-profit endeavor. This is a copyrighted work, but people are welcome\n",
      "to make *verbatim* copies for personal use. People can recuperate the\n",
      "actual costs of printing (paper, copy center charges), but may not charge\n",
      "anything for their time in making copies, or in any way realize a profit\n",
      "from the use of this book. See the permissions notice in the book itself\n",
      "for the precise terms.\n",
      "\n",
      "Negotiations are currently underway with a Mormon publisher vis-a-vis the\n",
      "printing and distribution of bound books. (Sorry, I'm out of the wire-bound\n",
      "\"first editions.\") I will make another announcement about the availability\n",
      "of printed copies once everything has been worked out.\n",
      "\n",
      "FTP information: connect via anonymous ftp to carnot.itc.cmu.edu, then \"cd\n",
      "pub\" (you won't see anything at all until you do).\n",
      "\n",
      "\"The Easy-to-Read Book of Mormon\" is currently available in postscript and\n",
      "RTF (rich text format). (ASCII, LaTeX, and other versions can be made\n",
      "available; contact dba@andrew.cmu.edu for details.) You should be able to\n",
      "print the postscript file on any postscript printer (such as an Apple\n",
      "Laserwriter); let dba know if you have any difficulties. (The postscript in\n",
      "the last release had problems on some printers; this time it should work\n",
      "better.) RTF is a standard document interchange format that can be read in\n",
      "by a number of word processors, including Microsoft Word for both the\n",
      "Macintosh and Windows. If you don't have a postscript printer, you may be\n",
      "able to use the RTF file to print out a copy of the book.\n",
      "\n",
      "-r--r--r--  1 dba                   1984742 Apr 27 13:12 etrbom.ps\n",
      "-r--r--r--  1 dba                   1209071 Apr 27 13:13 etrbom.rtf\n",
      "\n",
      "For more information about how this project came about, please refer to my\n",
      "article in the current issue of _Sunstone_, entitled \"Delighting in\n",
      "Plainness: Issues Surrounding a Simple Modern English Book of Mormon.\"\n",
      "\n",
      "Send all inquiries and comments to:\n",
      "\n",
      "    Lynn Matthews Anderson\n",
      "    5806 Hampton Street\n",
      "    Pittsburgh, PA 15206\n",
      "\n",
      "\n",
      "Predicted label: comp.graphics\n",
      "\n",
      "\n",
      "Correct label: talk.religion.misc\n",
      "\n",
      "\n",
      "Index: 665\n",
      "\n",
      "Magnitude of folly 324.987922787\n",
      "Can anyone provide me a ftp site where I can obtain a online version\n",
      "of the Book of Mormon. Please email the internet address if possible.\n",
      "\n",
      "\n",
      "Predicted label: talk.religion.misc\n",
      "\n",
      "\n",
      "Correct label: alt.atheism\n",
      "\n",
      "\n",
      "Index: 607\n",
      "\n",
      "Magnitude of folly 287.179159461\n",
      "\n",
      "The 24 children were, of course, killed by a lone gunman in a second story\n",
      "window, who fired eight bullets in the space of two seconds...\n",
      "\n"
     ]
    }
   ],
   "source": [
    "# 7)***********************\n",
    "# TDIDFVectorizer weights words by how often they appear in a document and\n",
    "# weights that against the frequency of the word in the entire corpus thereby\n",
    "# offseting high weights for words common to the corpus\n",
    "\n",
    "# Create list of all correct predictions to sort to find \n",
    "# largest value of (Max prob) / (prob of the correct prediction) \n",
    "# i.e. we are technically looking for smallest probability for a correct prediction\n",
    "\n",
    "\n",
    "# Analyzing the top 3 docucuments that scored the highest for ratio of:\n",
    "#  Max_Prob/(Prob for a correct prection)\n",
    "# first 2 miscoded docs used \"FTP\" and \"Email\" and were classified as graphics instead of religion (correct label)\n",
    "#  One issue is that words used in atheism and religion are closely related in general as related topics\n",
    "#  Another issue with the 2nd & 3rd document is the short length (which can't be controlled for but poses a challenge)\n",
    "\n",
    "#  One way to improve the scoring is to use the L1 penalty, assigning absolute weights\n",
    "#  to more clearly distinguish words characteristic of a class\n",
    "\n",
    "# And if documents could be correlated to authors/email addresses\n",
    "# it would give better insight on what the topic might be\n",
    "\n",
    "# In running the reverse test, (commented out below) , the results show\n",
    "# top documents are very long document lengths, high word frequencies which \n",
    "# increases the probability of words characteristic of the given class\n",
    "\n",
    "maxscore=0\n",
    "otherscores=[]\n",
    "clf = TfidfVectorizer()\n",
    "x = clf.fit_transform(train_data)\n",
    "xdev = clf.transform(dev_data)\n",
    "regr = LogisticRegression(C=100.0)\n",
    "regr.fit(x, train_labels)\n",
    "preds = regr.predict(xdev)\n",
    "probs= regr.predict_proba(xdev)\n",
    "maxprob = 0\n",
    "mycounter = 0\n",
    "incorrect = []\n",
    "for prob in probs:\n",
    "    if max(prob) > maxprob:\n",
    "        maxprob = max(prob)\n",
    "print 'max prob is:', maxprob        \n",
    "print maxprob\n",
    "#Create list of all correct predictions to sort to find \n",
    "# largest value of (Max prob) / (prob of the correct prediction) \n",
    "# i.e. we are technically looking for smallest probability for a correct prediction\n",
    "# capture index of dev_data as counter, label, and proability of this prediction \n",
    "print 'the counter', mycounter\n",
    "for pred, prob, label in zip(preds, probs, dev_labels):\n",
    "    if pred != label:\n",
    "        incorrect.append([mycounter, pred, label, max(prob)/prob[label]])\n",
    "    mycounter+=1\n",
    "\n",
    "sortedlist = sorted(incorrect, key=lambda oneitem: oneitem[3], reverse=True)\n",
    "for i in range (0,3):\n",
    "    print '\\n\\nPredicted label:' ,newsgroups_train.target_names[sortedlist[i][1]]\n",
    "    print '\\n\\nCorrect label:' ,newsgroups_train.target_names[sortedlist[i][2]]\n",
    "    print '\\n\\nIndex:' ,sortedlist[i][0]    \n",
    "    print '\\nMagnitude of folly', sortedlist[i][3]\n",
    "    print dev_data[sortedlist[i][0]]\n",
    "        \n",
    "# Check reverse list \n",
    "# Results show very long document lengths, high word frequencies\n",
    "\n",
    "# sortedlist = sorted(correct, key=lambda oneitem: oneitem[2], reverse=True)\n",
    "# for i in range (0,3):\n",
    "#     print '\\n\\nCorrect label:' ,sortedlist[i][1]\n",
    "#     print '\\n\\nIndex:' ,sortedlist[i][0]    \n",
    "#     print '\\nProbability', sortedlist[i][2]\n",
    "#     print dev_data[sortedlist[i][0]]\n"
   ]
  }
 ],
 "metadata": {
  "kernelspec": {
   "display_name": "Python 2",
   "language": "python",
   "name": "python2"
  },
  "language_info": {
   "codemirror_mode": {
    "name": "ipython",
    "version": 2
   },
   "file_extension": ".py",
   "mimetype": "text/x-python",
   "name": "python",
   "nbconvert_exporter": "python",
   "pygments_lexer": "ipython2",
   "version": "2.7.11"
  }
 },
 "nbformat": 4,
 "nbformat_minor": 0
}
